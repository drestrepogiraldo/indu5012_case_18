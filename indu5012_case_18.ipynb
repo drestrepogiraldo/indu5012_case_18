{
 "cells": [
  {
   "cell_type": "markdown",
   "source": "# Case 18 - Classification problems practice ",
   "metadata": {
    "cell_id": "180b6174aefa47a98f5a5b66116738b5",
    "tags": [],
    "deepnote_cell_type": "markdown",
    "deepnote_cell_height": 82
   }
  },
  {
   "cell_type": "markdown",
   "source": "## Business Problem",
   "metadata": {
    "cell_id": "02179a9eca304d1b92102d64c806bad8",
    "tags": [],
    "deepnote_cell_type": "markdown",
    "deepnote_cell_height": 70
   }
  },
  {
   "cell_type": "markdown",
   "source": "You are an analyst at the marketing area of a big supermarket chain in the country. Your task is to predict if a client is going to answer in a positive way a marketing campaign.",
   "metadata": {
    "cell_id": "7a1bb0cf21a24b6ea914cbc81729042d",
    "tags": [],
    "deepnote_cell_type": "markdown",
    "deepnote_cell_height": 74.78125
   }
  },
  {
   "cell_type": "markdown",
   "source": "### Packages Import",
   "metadata": {
    "cell_id": "4868e9401afe4a6189c3653aae47f548",
    "tags": [],
    "deepnote_cell_type": "markdown",
    "deepnote_cell_height": 62
   }
  },
  {
   "cell_type": "code",
   "metadata": {
    "cell_id": "c9e881137fe243c7a892183c90e9cb74",
    "tags": [],
    "deepnote_to_be_reexecuted": false,
    "source_hash": "83006cd6",
    "execution_start": 1648921026620,
    "execution_millis": 1807,
    "deepnote_cell_type": "code",
    "deepnote_cell_height": 153
   },
   "source": "import pandas as pd\nimport numpy as np\n\nimport seaborn as sns\nimport matplotlib.pyplot as plt",
   "execution_count": null,
   "outputs": []
  },
  {
   "cell_type": "markdown",
   "source": "### Data Import\n\nThe information was downloaded from a freely available dataset from [Kaggle](https://www.kaggle.com/imakash3011/customer-personality-analysis)",
   "metadata": {
    "cell_id": "ec2c254270254945a5e9a899ab98fb8d",
    "tags": [],
    "deepnote_cell_type": "markdown",
    "deepnote_cell_height": 100.390625
   }
  },
  {
   "cell_type": "code",
   "metadata": {
    "cell_id": "abfe1060e9474f84b37fb458a9c6ff06",
    "tags": [],
    "deepnote_to_be_reexecuted": false,
    "source_hash": "1adac2bd",
    "execution_start": 1648921028439,
    "execution_millis": 148,
    "deepnote_cell_type": "code",
    "deepnote_cell_height": 430
   },
   "source": "df_customers = pd.read_csv('/work/indu5012_case_18/data/Customers.csv',sep='\\t')\ndf_customers.head(5)",
   "execution_count": null,
   "outputs": [
    {
     "output_type": "execute_result",
     "execution_count": 2,
     "data": {
      "application/vnd.deepnote.dataframe.v3+json": {
       "column_count": 29,
       "row_count": 5,
       "columns": [
        {
         "name": "ID",
         "dtype": "int64",
         "stats": {
          "unique_count": 5,
          "nan_count": 0,
          "min": "2174",
          "max": "6182",
          "histogram": [
           {
            "bin_start": 2174,
            "bin_end": 2574.8,
            "count": 1
           },
           {
            "bin_start": 2574.8,
            "bin_end": 2975.6,
            "count": 0
           },
           {
            "bin_start": 2975.6,
            "bin_end": 3376.4,
            "count": 0
           },
           {
            "bin_start": 3376.4,
            "bin_end": 3777.2,
            "count": 0
           },
           {
            "bin_start": 3777.2,
            "bin_end": 4178,
            "count": 1
           },
           {
            "bin_start": 4178,
            "bin_end": 4578.8,
            "count": 0
           },
           {
            "bin_start": 4578.8,
            "bin_end": 4979.6,
            "count": 0
           },
           {
            "bin_start": 4979.6,
            "bin_end": 5380.4,
            "count": 1
           },
           {
            "bin_start": 5380.4,
            "bin_end": 5781.200000000001,
            "count": 1
           },
           {
            "bin_start": 5781.200000000001,
            "bin_end": 6182,
            "count": 1
           }
          ]
         }
        },
        {
         "name": "Year_Birth",
         "dtype": "int64",
         "stats": {
          "unique_count": 5,
          "nan_count": 0,
          "min": "1954",
          "max": "1984",
          "histogram": [
           {
            "bin_start": 1954,
            "bin_end": 1957,
            "count": 1
           },
           {
            "bin_start": 1957,
            "bin_end": 1960,
            "count": 1
           },
           {
            "bin_start": 1960,
            "bin_end": 1963,
            "count": 0
           },
           {
            "bin_start": 1963,
            "bin_end": 1966,
            "count": 1
           },
           {
            "bin_start": 1966,
            "bin_end": 1969,
            "count": 0
           },
           {
            "bin_start": 1969,
            "bin_end": 1972,
            "count": 0
           },
           {
            "bin_start": 1972,
            "bin_end": 1975,
            "count": 0
           },
           {
            "bin_start": 1975,
            "bin_end": 1978,
            "count": 0
           },
           {
            "bin_start": 1978,
            "bin_end": 1981,
            "count": 0
           },
           {
            "bin_start": 1981,
            "bin_end": 1984,
            "count": 2
           }
          ]
         }
        },
        {
         "name": "Education",
         "dtype": "object",
         "stats": {
          "unique_count": 2,
          "nan_count": 0,
          "categories": [
           {
            "name": "Graduation",
            "count": 4
           },
           {
            "name": "PhD",
            "count": 1
           }
          ]
         }
        },
        {
         "name": "Marital_Status",
         "dtype": "object",
         "stats": {
          "unique_count": 3,
          "nan_count": 0,
          "categories": [
           {
            "name": "Single",
            "count": 2
           },
           {
            "name": "Together",
            "count": 2
           },
           {
            "name": "Married",
            "count": 1
           }
          ]
         }
        },
        {
         "name": "Income",
         "dtype": "float64",
         "stats": {
          "unique_count": 5,
          "nan_count": 0,
          "min": "26646.0",
          "max": "71613.0",
          "histogram": [
           {
            "bin_start": 26646,
            "bin_end": 31142.7,
            "count": 1
           },
           {
            "bin_start": 31142.7,
            "bin_end": 35639.4,
            "count": 0
           },
           {
            "bin_start": 35639.4,
            "bin_end": 40136.1,
            "count": 0
           },
           {
            "bin_start": 40136.1,
            "bin_end": 44632.8,
            "count": 0
           },
           {
            "bin_start": 44632.8,
            "bin_end": 49129.5,
            "count": 1
           },
           {
            "bin_start": 49129.5,
            "bin_end": 53626.2,
            "count": 0
           },
           {
            "bin_start": 53626.2,
            "bin_end": 58122.899999999994,
            "count": 0
           },
           {
            "bin_start": 58122.899999999994,
            "bin_end": 62619.6,
            "count": 2
           },
           {
            "bin_start": 62619.6,
            "bin_end": 67116.29999999999,
            "count": 0
           },
           {
            "bin_start": 67116.29999999999,
            "bin_end": 71613,
            "count": 1
           }
          ]
         }
        },
        {
         "name": "Kidhome",
         "dtype": "int64",
         "stats": {
          "unique_count": 2,
          "nan_count": 0,
          "min": "0",
          "max": "1",
          "histogram": [
           {
            "bin_start": 0,
            "bin_end": 0.1,
            "count": 2
           },
           {
            "bin_start": 0.1,
            "bin_end": 0.2,
            "count": 0
           },
           {
            "bin_start": 0.2,
            "bin_end": 0.30000000000000004,
            "count": 0
           },
           {
            "bin_start": 0.30000000000000004,
            "bin_end": 0.4,
            "count": 0
           },
           {
            "bin_start": 0.4,
            "bin_end": 0.5,
            "count": 0
           },
           {
            "bin_start": 0.5,
            "bin_end": 0.6000000000000001,
            "count": 0
           },
           {
            "bin_start": 0.6000000000000001,
            "bin_end": 0.7000000000000001,
            "count": 0
           },
           {
            "bin_start": 0.7000000000000001,
            "bin_end": 0.8,
            "count": 0
           },
           {
            "bin_start": 0.8,
            "bin_end": 0.9,
            "count": 0
           },
           {
            "bin_start": 0.9,
            "bin_end": 1,
            "count": 3
           }
          ]
         }
        },
        {
         "name": "Teenhome",
         "dtype": "int64",
         "stats": {
          "unique_count": 2,
          "nan_count": 0,
          "min": "0",
          "max": "1",
          "histogram": [
           {
            "bin_start": 0,
            "bin_end": 0.1,
            "count": 4
           },
           {
            "bin_start": 0.1,
            "bin_end": 0.2,
            "count": 0
           },
           {
            "bin_start": 0.2,
            "bin_end": 0.30000000000000004,
            "count": 0
           },
           {
            "bin_start": 0.30000000000000004,
            "bin_end": 0.4,
            "count": 0
           },
           {
            "bin_start": 0.4,
            "bin_end": 0.5,
            "count": 0
           },
           {
            "bin_start": 0.5,
            "bin_end": 0.6000000000000001,
            "count": 0
           },
           {
            "bin_start": 0.6000000000000001,
            "bin_end": 0.7000000000000001,
            "count": 0
           },
           {
            "bin_start": 0.7000000000000001,
            "bin_end": 0.8,
            "count": 0
           },
           {
            "bin_start": 0.8,
            "bin_end": 0.9,
            "count": 0
           },
           {
            "bin_start": 0.9,
            "bin_end": 1,
            "count": 1
           }
          ]
         }
        },
        {
         "name": "Dt_Customer",
         "dtype": "object",
         "stats": {
          "unique_count": 5,
          "nan_count": 0,
          "categories": [
           {
            "name": "04-09-2012",
            "count": 1
           },
           {
            "name": "08-03-2014",
            "count": 1
           },
           {
            "name": "3 others",
            "count": 3
           }
          ]
         }
        },
        {
         "name": "Recency",
         "dtype": "int64",
         "stats": {
          "unique_count": 4,
          "nan_count": 0,
          "min": "26",
          "max": "94",
          "histogram": [
           {
            "bin_start": 26,
            "bin_end": 32.8,
            "count": 2
           },
           {
            "bin_start": 32.8,
            "bin_end": 39.6,
            "count": 1
           },
           {
            "bin_start": 39.6,
            "bin_end": 46.4,
            "count": 0
           },
           {
            "bin_start": 46.4,
            "bin_end": 53.2,
            "count": 0
           },
           {
            "bin_start": 53.2,
            "bin_end": 60,
            "count": 1
           },
           {
            "bin_start": 60,
            "bin_end": 66.8,
            "count": 0
           },
           {
            "bin_start": 66.8,
            "bin_end": 73.6,
            "count": 0
           },
           {
            "bin_start": 73.6,
            "bin_end": 80.4,
            "count": 0
           },
           {
            "bin_start": 80.4,
            "bin_end": 87.19999999999999,
            "count": 0
           },
           {
            "bin_start": 87.19999999999999,
            "bin_end": 94,
            "count": 1
           }
          ]
         }
        },
        {
         "name": "MntWines",
         "dtype": "int64",
         "stats": {
          "unique_count": 4,
          "nan_count": 0,
          "min": "11",
          "max": "635",
          "histogram": [
           {
            "bin_start": 11,
            "bin_end": 73.4,
            "count": 2
           },
           {
            "bin_start": 73.4,
            "bin_end": 135.8,
            "count": 0
           },
           {
            "bin_start": 135.8,
            "bin_end": 198.2,
            "count": 1
           },
           {
            "bin_start": 198.2,
            "bin_end": 260.6,
            "count": 0
           },
           {
            "bin_start": 260.6,
            "bin_end": 323,
            "count": 0
           },
           {
            "bin_start": 323,
            "bin_end": 385.4,
            "count": 0
           },
           {
            "bin_start": 385.4,
            "bin_end": 447.8,
            "count": 1
           },
           {
            "bin_start": 447.8,
            "bin_end": 510.2,
            "count": 0
           },
           {
            "bin_start": 510.2,
            "bin_end": 572.6,
            "count": 0
           },
           {
            "bin_start": 572.6,
            "bin_end": 635,
            "count": 1
           }
          ]
         }
        },
        {
         "name": "MntFruits",
         "dtype": "int64",
         "stats": {
          "unique_count": 5,
          "nan_count": 0,
          "min": "1",
          "max": "88",
          "histogram": [
           {
            "bin_start": 1,
            "bin_end": 9.7,
            "count": 2
           },
           {
            "bin_start": 9.7,
            "bin_end": 18.4,
            "count": 0
           },
           {
            "bin_start": 18.4,
            "bin_end": 27.099999999999998,
            "count": 0
           },
           {
            "bin_start": 27.099999999999998,
            "bin_end": 35.8,
            "count": 0
           },
           {
            "bin_start": 35.8,
            "bin_end": 44.5,
            "count": 1
           },
           {
            "bin_start": 44.5,
            "bin_end": 53.199999999999996,
            "count": 1
           },
           {
            "bin_start": 53.199999999999996,
            "bin_end": 61.89999999999999,
            "count": 0
           },
           {
            "bin_start": 61.89999999999999,
            "bin_end": 70.6,
            "count": 0
           },
           {
            "bin_start": 70.6,
            "bin_end": 79.3,
            "count": 0
           },
           {
            "bin_start": 79.3,
            "bin_end": 88,
            "count": 1
           }
          ]
         }
        },
        {
         "name": "MntMeatProducts",
         "dtype": "int64",
         "stats": {
          "unique_count": 5,
          "nan_count": 0,
          "min": "6",
          "max": "546",
          "histogram": [
           {
            "bin_start": 6,
            "bin_end": 60,
            "count": 2
           },
           {
            "bin_start": 60,
            "bin_end": 114,
            "count": 0
           },
           {
            "bin_start": 114,
            "bin_end": 168,
            "count": 2
           },
           {
            "bin_start": 168,
            "bin_end": 222,
            "count": 0
           },
           {
            "bin_start": 222,
            "bin_end": 276,
            "count": 0
           },
           {
            "bin_start": 276,
            "bin_end": 330,
            "count": 0
           },
           {
            "bin_start": 330,
            "bin_end": 384,
            "count": 0
           },
           {
            "bin_start": 384,
            "bin_end": 438,
            "count": 0
           },
           {
            "bin_start": 438,
            "bin_end": 492,
            "count": 0
           },
           {
            "bin_start": 492,
            "bin_end": 546,
            "count": 1
           }
          ]
         }
        },
        {
         "name": "MntFishProducts",
         "dtype": "int64",
         "stats": {
          "unique_count": 5,
          "nan_count": 0,
          "min": "2",
          "max": "172",
          "histogram": [
           {
            "bin_start": 2,
            "bin_end": 19,
            "count": 2
           },
           {
            "bin_start": 19,
            "bin_end": 36,
            "count": 0
           },
           {
            "bin_start": 36,
            "bin_end": 53,
            "count": 1
           },
           {
            "bin_start": 53,
            "bin_end": 70,
            "count": 0
           },
           {
            "bin_start": 70,
            "bin_end": 87,
            "count": 0
           },
           {
            "bin_start": 87,
            "bin_end": 104,
            "count": 0
           },
           {
            "bin_start": 104,
            "bin_end": 121,
            "count": 1
           },
           {
            "bin_start": 121,
            "bin_end": 138,
            "count": 0
           },
           {
            "bin_start": 138,
            "bin_end": 155,
            "count": 0
           },
           {
            "bin_start": 155,
            "bin_end": 172,
            "count": 1
           }
          ]
         }
        },
        {
         "name": "MntSweetProducts",
         "dtype": "int64",
         "stats": {
          "unique_count": 5,
          "nan_count": 0,
          "min": "1",
          "max": "88",
          "histogram": [
           {
            "bin_start": 1,
            "bin_end": 9.7,
            "count": 2
           },
           {
            "bin_start": 9.7,
            "bin_end": 18.4,
            "count": 0
           },
           {
            "bin_start": 18.4,
            "bin_end": 27.099999999999998,
            "count": 2
           },
           {
            "bin_start": 27.099999999999998,
            "bin_end": 35.8,
            "count": 0
           },
           {
            "bin_start": 35.8,
            "bin_end": 44.5,
            "count": 0
           },
           {
            "bin_start": 44.5,
            "bin_end": 53.199999999999996,
            "count": 0
           },
           {
            "bin_start": 53.199999999999996,
            "bin_end": 61.89999999999999,
            "count": 0
           },
           {
            "bin_start": 61.89999999999999,
            "bin_end": 70.6,
            "count": 0
           },
           {
            "bin_start": 70.6,
            "bin_end": 79.3,
            "count": 0
           },
           {
            "bin_start": 79.3,
            "bin_end": 88,
            "count": 1
           }
          ]
         }
        },
        {
         "name": "MntGoldProds",
         "dtype": "int64",
         "stats": {
          "unique_count": 5,
          "nan_count": 0,
          "min": "5",
          "max": "88",
          "histogram": [
           {
            "bin_start": 5,
            "bin_end": 13.3,
            "count": 2
           },
           {
            "bin_start": 13.3,
            "bin_end": 21.6,
            "count": 1
           },
           {
            "bin_start": 21.6,
            "bin_end": 29.900000000000002,
            "count": 0
           },
           {
            "bin_start": 29.900000000000002,
            "bin_end": 38.2,
            "count": 0
           },
           {
            "bin_start": 38.2,
            "bin_end": 46.5,
            "count": 1
           },
           {
            "bin_start": 46.5,
            "bin_end": 54.800000000000004,
            "count": 0
           },
           {
            "bin_start": 54.800000000000004,
            "bin_end": 63.10000000000001,
            "count": 0
           },
           {
            "bin_start": 63.10000000000001,
            "bin_end": 71.4,
            "count": 0
           },
           {
            "bin_start": 71.4,
            "bin_end": 79.7,
            "count": 0
           },
           {
            "bin_start": 79.7,
            "bin_end": 88,
            "count": 1
           }
          ]
         }
        },
        {
         "name": "NumDealsPurchases",
         "dtype": "int64",
         "stats": {
          "unique_count": 4,
          "nan_count": 0,
          "min": "1",
          "max": "5",
          "histogram": [
           {
            "bin_start": 1,
            "bin_end": 1.4,
            "count": 1
           },
           {
            "bin_start": 1.4,
            "bin_end": 1.8,
            "count": 0
           },
           {
            "bin_start": 1.8,
            "bin_end": 2.2,
            "count": 2
           },
           {
            "bin_start": 2.2,
            "bin_end": 2.6,
            "count": 0
           },
           {
            "bin_start": 2.6,
            "bin_end": 3,
            "count": 0
           },
           {
            "bin_start": 3,
            "bin_end": 3.4000000000000004,
            "count": 1
           },
           {
            "bin_start": 3.4000000000000004,
            "bin_end": 3.8000000000000003,
            "count": 0
           },
           {
            "bin_start": 3.8000000000000003,
            "bin_end": 4.2,
            "count": 0
           },
           {
            "bin_start": 4.2,
            "bin_end": 4.6,
            "count": 0
           },
           {
            "bin_start": 4.6,
            "bin_end": 5,
            "count": 1
           }
          ]
         }
        },
        {
         "name": "NumWebPurchases",
         "dtype": "int64",
         "stats": {
          "unique_count": 4,
          "nan_count": 0,
          "min": "1",
          "max": "8",
          "histogram": [
           {
            "bin_start": 1,
            "bin_end": 1.7,
            "count": 1
           },
           {
            "bin_start": 1.7,
            "bin_end": 2.4,
            "count": 1
           },
           {
            "bin_start": 2.4,
            "bin_end": 3.0999999999999996,
            "count": 0
           },
           {
            "bin_start": 3.0999999999999996,
            "bin_end": 3.8,
            "count": 0
           },
           {
            "bin_start": 3.8,
            "bin_end": 4.5,
            "count": 0
           },
           {
            "bin_start": 4.5,
            "bin_end": 5.199999999999999,
            "count": 1
           },
           {
            "bin_start": 5.199999999999999,
            "bin_end": 5.8999999999999995,
            "count": 0
           },
           {
            "bin_start": 5.8999999999999995,
            "bin_end": 6.6,
            "count": 0
           },
           {
            "bin_start": 6.6,
            "bin_end": 7.3,
            "count": 0
           },
           {
            "bin_start": 7.3,
            "bin_end": 8,
            "count": 2
           }
          ]
         }
        },
        {
         "name": "NumCatalogPurchases",
         "dtype": "int64",
         "stats": {
          "unique_count": 5,
          "nan_count": 0,
          "min": "0",
          "max": "10",
          "histogram": [
           {
            "bin_start": 0,
            "bin_end": 1,
            "count": 1
           },
           {
            "bin_start": 1,
            "bin_end": 2,
            "count": 1
           },
           {
            "bin_start": 2,
            "bin_end": 3,
            "count": 1
           },
           {
            "bin_start": 3,
            "bin_end": 4,
            "count": 1
           },
           {
            "bin_start": 4,
            "bin_end": 5,
            "count": 0
           },
           {
            "bin_start": 5,
            "bin_end": 6,
            "count": 0
           },
           {
            "bin_start": 6,
            "bin_end": 7,
            "count": 0
           },
           {
            "bin_start": 7,
            "bin_end": 8,
            "count": 0
           },
           {
            "bin_start": 8,
            "bin_end": 9,
            "count": 0
           },
           {
            "bin_start": 9,
            "bin_end": 10,
            "count": 1
           }
          ]
         }
        },
        {
         "name": "NumStorePurchases",
         "dtype": "int64",
         "stats": {
          "unique_count": 4,
          "nan_count": 0,
          "min": "2",
          "max": "10",
          "histogram": [
           {
            "bin_start": 2,
            "bin_end": 2.8,
            "count": 1
           },
           {
            "bin_start": 2.8,
            "bin_end": 3.6,
            "count": 0
           },
           {
            "bin_start": 3.6,
            "bin_end": 4.4,
            "count": 2
           },
           {
            "bin_start": 4.4,
            "bin_end": 5.2,
            "count": 0
           },
           {
            "bin_start": 5.2,
            "bin_end": 6,
            "count": 0
           },
           {
            "bin_start": 6,
            "bin_end": 6.800000000000001,
            "count": 1
           },
           {
            "bin_start": 6.800000000000001,
            "bin_end": 7.6000000000000005,
            "count": 0
           },
           {
            "bin_start": 7.6000000000000005,
            "bin_end": 8.4,
            "count": 0
           },
           {
            "bin_start": 8.4,
            "bin_end": 9.2,
            "count": 0
           },
           {
            "bin_start": 9.2,
            "bin_end": 10,
            "count": 1
           }
          ]
         }
        },
        {
         "name": "NumWebVisitsMonth",
         "dtype": "int64",
         "stats": {
          "unique_count": 4,
          "nan_count": 0,
          "min": "4",
          "max": "7",
          "histogram": [
           {
            "bin_start": 4,
            "bin_end": 4.3,
            "count": 1
           },
           {
            "bin_start": 4.3,
            "bin_end": 4.6,
            "count": 0
           },
           {
            "bin_start": 4.6,
            "bin_end": 4.9,
            "count": 0
           },
           {
            "bin_start": 4.9,
            "bin_end": 5.2,
            "count": 2
           },
           {
            "bin_start": 5.2,
            "bin_end": 5.5,
            "count": 0
           },
           {
            "bin_start": 5.5,
            "bin_end": 5.8,
            "count": 0
           },
           {
            "bin_start": 5.8,
            "bin_end": 6.1,
            "count": 1
           },
           {
            "bin_start": 6.1,
            "bin_end": 6.4,
            "count": 0
           },
           {
            "bin_start": 6.4,
            "bin_end": 6.699999999999999,
            "count": 0
           },
           {
            "bin_start": 6.699999999999999,
            "bin_end": 7,
            "count": 1
           }
          ]
         }
        },
        {
         "name": "AcceptedCmp3",
         "dtype": "int64",
         "stats": {
          "unique_count": 1,
          "nan_count": 0,
          "min": "0",
          "max": "0",
          "histogram": [
           {
            "bin_start": -0.5,
            "bin_end": -0.4,
            "count": 0
           },
           {
            "bin_start": -0.4,
            "bin_end": -0.3,
            "count": 0
           },
           {
            "bin_start": -0.3,
            "bin_end": -0.19999999999999996,
            "count": 0
           },
           {
            "bin_start": -0.19999999999999996,
            "bin_end": -0.09999999999999998,
            "count": 0
           },
           {
            "bin_start": -0.09999999999999998,
            "bin_end": 0,
            "count": 0
           },
           {
            "bin_start": 0,
            "bin_end": 0.10000000000000009,
            "count": 5
           },
           {
            "bin_start": 0.10000000000000009,
            "bin_end": 0.20000000000000007,
            "count": 0
           },
           {
            "bin_start": 0.20000000000000007,
            "bin_end": 0.30000000000000004,
            "count": 0
           },
           {
            "bin_start": 0.30000000000000004,
            "bin_end": 0.4,
            "count": 0
           },
           {
            "bin_start": 0.4,
            "bin_end": 0.5,
            "count": 0
           }
          ]
         }
        },
        {
         "name": "AcceptedCmp4",
         "dtype": "int64",
         "stats": {
          "unique_count": 1,
          "nan_count": 0,
          "min": "0",
          "max": "0",
          "histogram": [
           {
            "bin_start": -0.5,
            "bin_end": -0.4,
            "count": 0
           },
           {
            "bin_start": -0.4,
            "bin_end": -0.3,
            "count": 0
           },
           {
            "bin_start": -0.3,
            "bin_end": -0.19999999999999996,
            "count": 0
           },
           {
            "bin_start": -0.19999999999999996,
            "bin_end": -0.09999999999999998,
            "count": 0
           },
           {
            "bin_start": -0.09999999999999998,
            "bin_end": 0,
            "count": 0
           },
           {
            "bin_start": 0,
            "bin_end": 0.10000000000000009,
            "count": 5
           },
           {
            "bin_start": 0.10000000000000009,
            "bin_end": 0.20000000000000007,
            "count": 0
           },
           {
            "bin_start": 0.20000000000000007,
            "bin_end": 0.30000000000000004,
            "count": 0
           },
           {
            "bin_start": 0.30000000000000004,
            "bin_end": 0.4,
            "count": 0
           },
           {
            "bin_start": 0.4,
            "bin_end": 0.5,
            "count": 0
           }
          ]
         }
        },
        {
         "name": "AcceptedCmp5",
         "dtype": "int64",
         "stats": {
          "unique_count": 1,
          "nan_count": 0,
          "min": "0",
          "max": "0",
          "histogram": [
           {
            "bin_start": -0.5,
            "bin_end": -0.4,
            "count": 0
           },
           {
            "bin_start": -0.4,
            "bin_end": -0.3,
            "count": 0
           },
           {
            "bin_start": -0.3,
            "bin_end": -0.19999999999999996,
            "count": 0
           },
           {
            "bin_start": -0.19999999999999996,
            "bin_end": -0.09999999999999998,
            "count": 0
           },
           {
            "bin_start": -0.09999999999999998,
            "bin_end": 0,
            "count": 0
           },
           {
            "bin_start": 0,
            "bin_end": 0.10000000000000009,
            "count": 5
           },
           {
            "bin_start": 0.10000000000000009,
            "bin_end": 0.20000000000000007,
            "count": 0
           },
           {
            "bin_start": 0.20000000000000007,
            "bin_end": 0.30000000000000004,
            "count": 0
           },
           {
            "bin_start": 0.30000000000000004,
            "bin_end": 0.4,
            "count": 0
           },
           {
            "bin_start": 0.4,
            "bin_end": 0.5,
            "count": 0
           }
          ]
         }
        },
        {
         "name": "AcceptedCmp1",
         "dtype": "int64",
         "stats": {
          "unique_count": 1,
          "nan_count": 0,
          "min": "0",
          "max": "0",
          "histogram": [
           {
            "bin_start": -0.5,
            "bin_end": -0.4,
            "count": 0
           },
           {
            "bin_start": -0.4,
            "bin_end": -0.3,
            "count": 0
           },
           {
            "bin_start": -0.3,
            "bin_end": -0.19999999999999996,
            "count": 0
           },
           {
            "bin_start": -0.19999999999999996,
            "bin_end": -0.09999999999999998,
            "count": 0
           },
           {
            "bin_start": -0.09999999999999998,
            "bin_end": 0,
            "count": 0
           },
           {
            "bin_start": 0,
            "bin_end": 0.10000000000000009,
            "count": 5
           },
           {
            "bin_start": 0.10000000000000009,
            "bin_end": 0.20000000000000007,
            "count": 0
           },
           {
            "bin_start": 0.20000000000000007,
            "bin_end": 0.30000000000000004,
            "count": 0
           },
           {
            "bin_start": 0.30000000000000004,
            "bin_end": 0.4,
            "count": 0
           },
           {
            "bin_start": 0.4,
            "bin_end": 0.5,
            "count": 0
           }
          ]
         }
        },
        {
         "name": "AcceptedCmp2",
         "dtype": "int64",
         "stats": {
          "unique_count": 1,
          "nan_count": 0,
          "min": "0",
          "max": "0",
          "histogram": [
           {
            "bin_start": -0.5,
            "bin_end": -0.4,
            "count": 0
           },
           {
            "bin_start": -0.4,
            "bin_end": -0.3,
            "count": 0
           },
           {
            "bin_start": -0.3,
            "bin_end": -0.19999999999999996,
            "count": 0
           },
           {
            "bin_start": -0.19999999999999996,
            "bin_end": -0.09999999999999998,
            "count": 0
           },
           {
            "bin_start": -0.09999999999999998,
            "bin_end": 0,
            "count": 0
           },
           {
            "bin_start": 0,
            "bin_end": 0.10000000000000009,
            "count": 5
           },
           {
            "bin_start": 0.10000000000000009,
            "bin_end": 0.20000000000000007,
            "count": 0
           },
           {
            "bin_start": 0.20000000000000007,
            "bin_end": 0.30000000000000004,
            "count": 0
           },
           {
            "bin_start": 0.30000000000000004,
            "bin_end": 0.4,
            "count": 0
           },
           {
            "bin_start": 0.4,
            "bin_end": 0.5,
            "count": 0
           }
          ]
         }
        },
        {
         "name": "Complain",
         "dtype": "int64",
         "stats": {
          "unique_count": 1,
          "nan_count": 0,
          "min": "0",
          "max": "0",
          "histogram": [
           {
            "bin_start": -0.5,
            "bin_end": -0.4,
            "count": 0
           },
           {
            "bin_start": -0.4,
            "bin_end": -0.3,
            "count": 0
           },
           {
            "bin_start": -0.3,
            "bin_end": -0.19999999999999996,
            "count": 0
           },
           {
            "bin_start": -0.19999999999999996,
            "bin_end": -0.09999999999999998,
            "count": 0
           },
           {
            "bin_start": -0.09999999999999998,
            "bin_end": 0,
            "count": 0
           },
           {
            "bin_start": 0,
            "bin_end": 0.10000000000000009,
            "count": 5
           },
           {
            "bin_start": 0.10000000000000009,
            "bin_end": 0.20000000000000007,
            "count": 0
           },
           {
            "bin_start": 0.20000000000000007,
            "bin_end": 0.30000000000000004,
            "count": 0
           },
           {
            "bin_start": 0.30000000000000004,
            "bin_end": 0.4,
            "count": 0
           },
           {
            "bin_start": 0.4,
            "bin_end": 0.5,
            "count": 0
           }
          ]
         }
        },
        {
         "name": "Z_CostContact",
         "dtype": "int64",
         "stats": {
          "unique_count": 1,
          "nan_count": 0,
          "min": "3",
          "max": "3",
          "histogram": [
           {
            "bin_start": 2.5,
            "bin_end": 2.6,
            "count": 0
           },
           {
            "bin_start": 2.6,
            "bin_end": 2.7,
            "count": 0
           },
           {
            "bin_start": 2.7,
            "bin_end": 2.8,
            "count": 0
           },
           {
            "bin_start": 2.8,
            "bin_end": 2.9,
            "count": 0
           },
           {
            "bin_start": 2.9,
            "bin_end": 3,
            "count": 0
           },
           {
            "bin_start": 3,
            "bin_end": 3.1,
            "count": 5
           },
           {
            "bin_start": 3.1,
            "bin_end": 3.2,
            "count": 0
           },
           {
            "bin_start": 3.2,
            "bin_end": 3.3,
            "count": 0
           },
           {
            "bin_start": 3.3,
            "bin_end": 3.4,
            "count": 0
           },
           {
            "bin_start": 3.4,
            "bin_end": 3.5,
            "count": 0
           }
          ]
         }
        },
        {
         "name": "Z_Revenue",
         "dtype": "int64",
         "stats": {
          "unique_count": 1,
          "nan_count": 0,
          "min": "11",
          "max": "11",
          "histogram": [
           {
            "bin_start": 10.5,
            "bin_end": 10.6,
            "count": 0
           },
           {
            "bin_start": 10.6,
            "bin_end": 10.7,
            "count": 0
           },
           {
            "bin_start": 10.7,
            "bin_end": 10.8,
            "count": 0
           },
           {
            "bin_start": 10.8,
            "bin_end": 10.9,
            "count": 0
           },
           {
            "bin_start": 10.9,
            "bin_end": 11,
            "count": 0
           },
           {
            "bin_start": 11,
            "bin_end": 11.1,
            "count": 5
           },
           {
            "bin_start": 11.1,
            "bin_end": 11.2,
            "count": 0
           },
           {
            "bin_start": 11.2,
            "bin_end": 11.3,
            "count": 0
           },
           {
            "bin_start": 11.3,
            "bin_end": 11.4,
            "count": 0
           },
           {
            "bin_start": 11.4,
            "bin_end": 11.5,
            "count": 0
           }
          ]
         }
        },
        {
         "name": "Response",
         "dtype": "int64",
         "stats": {
          "unique_count": 2,
          "nan_count": 0,
          "min": "0",
          "max": "1",
          "histogram": [
           {
            "bin_start": 0,
            "bin_end": 0.1,
            "count": 4
           },
           {
            "bin_start": 0.1,
            "bin_end": 0.2,
            "count": 0
           },
           {
            "bin_start": 0.2,
            "bin_end": 0.30000000000000004,
            "count": 0
           },
           {
            "bin_start": 0.30000000000000004,
            "bin_end": 0.4,
            "count": 0
           },
           {
            "bin_start": 0.4,
            "bin_end": 0.5,
            "count": 0
           },
           {
            "bin_start": 0.5,
            "bin_end": 0.6000000000000001,
            "count": 0
           },
           {
            "bin_start": 0.6000000000000001,
            "bin_end": 0.7000000000000001,
            "count": 0
           },
           {
            "bin_start": 0.7000000000000001,
            "bin_end": 0.8,
            "count": 0
           },
           {
            "bin_start": 0.8,
            "bin_end": 0.9,
            "count": 0
           },
           {
            "bin_start": 0.9,
            "bin_end": 1,
            "count": 1
           }
          ]
         }
        },
        {
         "name": "_deepnote_index_column",
         "dtype": "int64"
        }
       ],
       "rows": [
        {
         "ID": 5524,
         "Year_Birth": 1957,
         "Education": "Graduation",
         "Marital_Status": "Single",
         "Income": 58138,
         "Kidhome": 0,
         "Teenhome": 0,
         "Dt_Customer": "04-09-2012",
         "Recency": 58,
         "MntWines": 635,
         "MntFruits": 88,
         "MntMeatProducts": 546,
         "MntFishProducts": 172,
         "MntSweetProducts": 88,
         "MntGoldProds": 88,
         "NumDealsPurchases": 3,
         "NumWebPurchases": 8,
         "NumCatalogPurchases": 10,
         "NumStorePurchases": 4,
         "NumWebVisitsMonth": 7,
         "AcceptedCmp3": 0,
         "AcceptedCmp4": 0,
         "AcceptedCmp5": 0,
         "AcceptedCmp1": 0,
         "AcceptedCmp2": 0,
         "Complain": 0,
         "Z_CostContact": 3,
         "Z_Revenue": 11,
         "Response": 1,
         "_deepnote_index_column": 0
        },
        {
         "ID": 2174,
         "Year_Birth": 1954,
         "Education": "Graduation",
         "Marital_Status": "Single",
         "Income": 46344,
         "Kidhome": 1,
         "Teenhome": 1,
         "Dt_Customer": "08-03-2014",
         "Recency": 38,
         "MntWines": 11,
         "MntFruits": 1,
         "MntMeatProducts": 6,
         "MntFishProducts": 2,
         "MntSweetProducts": 1,
         "MntGoldProds": 6,
         "NumDealsPurchases": 2,
         "NumWebPurchases": 1,
         "NumCatalogPurchases": 1,
         "NumStorePurchases": 2,
         "NumWebVisitsMonth": 5,
         "AcceptedCmp3": 0,
         "AcceptedCmp4": 0,
         "AcceptedCmp5": 0,
         "AcceptedCmp1": 0,
         "AcceptedCmp2": 0,
         "Complain": 0,
         "Z_CostContact": 3,
         "Z_Revenue": 11,
         "Response": 0,
         "_deepnote_index_column": 1
        },
        {
         "ID": 4141,
         "Year_Birth": 1965,
         "Education": "Graduation",
         "Marital_Status": "Together",
         "Income": 71613,
         "Kidhome": 0,
         "Teenhome": 0,
         "Dt_Customer": "21-08-2013",
         "Recency": 26,
         "MntWines": 426,
         "MntFruits": 49,
         "MntMeatProducts": 127,
         "MntFishProducts": 111,
         "MntSweetProducts": 21,
         "MntGoldProds": 42,
         "NumDealsPurchases": 1,
         "NumWebPurchases": 8,
         "NumCatalogPurchases": 2,
         "NumStorePurchases": 10,
         "NumWebVisitsMonth": 4,
         "AcceptedCmp3": 0,
         "AcceptedCmp4": 0,
         "AcceptedCmp5": 0,
         "AcceptedCmp1": 0,
         "AcceptedCmp2": 0,
         "Complain": 0,
         "Z_CostContact": 3,
         "Z_Revenue": 11,
         "Response": 0,
         "_deepnote_index_column": 2
        },
        {
         "ID": 6182,
         "Year_Birth": 1984,
         "Education": "Graduation",
         "Marital_Status": "Together",
         "Income": 26646,
         "Kidhome": 1,
         "Teenhome": 0,
         "Dt_Customer": "10-02-2014",
         "Recency": 26,
         "MntWines": 11,
         "MntFruits": 4,
         "MntMeatProducts": 20,
         "MntFishProducts": 10,
         "MntSweetProducts": 3,
         "MntGoldProds": 5,
         "NumDealsPurchases": 2,
         "NumWebPurchases": 2,
         "NumCatalogPurchases": 0,
         "NumStorePurchases": 4,
         "NumWebVisitsMonth": 6,
         "AcceptedCmp3": 0,
         "AcceptedCmp4": 0,
         "AcceptedCmp5": 0,
         "AcceptedCmp1": 0,
         "AcceptedCmp2": 0,
         "Complain": 0,
         "Z_CostContact": 3,
         "Z_Revenue": 11,
         "Response": 0,
         "_deepnote_index_column": 3
        },
        {
         "ID": 5324,
         "Year_Birth": 1981,
         "Education": "PhD",
         "Marital_Status": "Married",
         "Income": 58293,
         "Kidhome": 1,
         "Teenhome": 0,
         "Dt_Customer": "19-01-2014",
         "Recency": 94,
         "MntWines": 173,
         "MntFruits": 43,
         "MntMeatProducts": 118,
         "MntFishProducts": 46,
         "MntSweetProducts": 27,
         "MntGoldProds": 15,
         "NumDealsPurchases": 5,
         "NumWebPurchases": 5,
         "NumCatalogPurchases": 3,
         "NumStorePurchases": 6,
         "NumWebVisitsMonth": 5,
         "AcceptedCmp3": 0,
         "AcceptedCmp4": 0,
         "AcceptedCmp5": 0,
         "AcceptedCmp1": 0,
         "AcceptedCmp2": 0,
         "Complain": 0,
         "Z_CostContact": 3,
         "Z_Revenue": 11,
         "Response": 0,
         "_deepnote_index_column": 4
        }
       ]
      },
      "text/plain": "     ID  Year_Birth   Education Marital_Status   Income  Kidhome  Teenhome  \\\n0  5524        1957  Graduation         Single  58138.0        0         0   \n1  2174        1954  Graduation         Single  46344.0        1         1   \n2  4141        1965  Graduation       Together  71613.0        0         0   \n3  6182        1984  Graduation       Together  26646.0        1         0   \n4  5324        1981         PhD        Married  58293.0        1         0   \n\n  Dt_Customer  Recency  MntWines  ...  NumWebVisitsMonth  AcceptedCmp3  \\\n0  04-09-2012       58       635  ...                  7             0   \n1  08-03-2014       38        11  ...                  5             0   \n2  21-08-2013       26       426  ...                  4             0   \n3  10-02-2014       26        11  ...                  6             0   \n4  19-01-2014       94       173  ...                  5             0   \n\n   AcceptedCmp4  AcceptedCmp5  AcceptedCmp1  AcceptedCmp2  Complain  \\\n0             0             0             0             0         0   \n1             0             0             0             0         0   \n2             0             0             0             0         0   \n3             0             0             0             0         0   \n4             0             0             0             0         0   \n\n   Z_CostContact  Z_Revenue  Response  \n0              3         11         1  \n1              3         11         0  \n2              3         11         0  \n3              3         11         0  \n4              3         11         0  \n\n[5 rows x 29 columns]",
      "text/html": "<div>\n<style scoped>\n    .dataframe tbody tr th:only-of-type {\n        vertical-align: middle;\n    }\n\n    .dataframe tbody tr th {\n        vertical-align: top;\n    }\n\n    .dataframe thead th {\n        text-align: right;\n    }\n</style>\n<table border=\"1\" class=\"dataframe\">\n  <thead>\n    <tr style=\"text-align: right;\">\n      <th></th>\n      <th>ID</th>\n      <th>Year_Birth</th>\n      <th>Education</th>\n      <th>Marital_Status</th>\n      <th>Income</th>\n      <th>Kidhome</th>\n      <th>Teenhome</th>\n      <th>Dt_Customer</th>\n      <th>Recency</th>\n      <th>MntWines</th>\n      <th>...</th>\n      <th>NumWebVisitsMonth</th>\n      <th>AcceptedCmp3</th>\n      <th>AcceptedCmp4</th>\n      <th>AcceptedCmp5</th>\n      <th>AcceptedCmp1</th>\n      <th>AcceptedCmp2</th>\n      <th>Complain</th>\n      <th>Z_CostContact</th>\n      <th>Z_Revenue</th>\n      <th>Response</th>\n    </tr>\n  </thead>\n  <tbody>\n    <tr>\n      <th>0</th>\n      <td>5524</td>\n      <td>1957</td>\n      <td>Graduation</td>\n      <td>Single</td>\n      <td>58138.0</td>\n      <td>0</td>\n      <td>0</td>\n      <td>04-09-2012</td>\n      <td>58</td>\n      <td>635</td>\n      <td>...</td>\n      <td>7</td>\n      <td>0</td>\n      <td>0</td>\n      <td>0</td>\n      <td>0</td>\n      <td>0</td>\n      <td>0</td>\n      <td>3</td>\n      <td>11</td>\n      <td>1</td>\n    </tr>\n    <tr>\n      <th>1</th>\n      <td>2174</td>\n      <td>1954</td>\n      <td>Graduation</td>\n      <td>Single</td>\n      <td>46344.0</td>\n      <td>1</td>\n      <td>1</td>\n      <td>08-03-2014</td>\n      <td>38</td>\n      <td>11</td>\n      <td>...</td>\n      <td>5</td>\n      <td>0</td>\n      <td>0</td>\n      <td>0</td>\n      <td>0</td>\n      <td>0</td>\n      <td>0</td>\n      <td>3</td>\n      <td>11</td>\n      <td>0</td>\n    </tr>\n    <tr>\n      <th>2</th>\n      <td>4141</td>\n      <td>1965</td>\n      <td>Graduation</td>\n      <td>Together</td>\n      <td>71613.0</td>\n      <td>0</td>\n      <td>0</td>\n      <td>21-08-2013</td>\n      <td>26</td>\n      <td>426</td>\n      <td>...</td>\n      <td>4</td>\n      <td>0</td>\n      <td>0</td>\n      <td>0</td>\n      <td>0</td>\n      <td>0</td>\n      <td>0</td>\n      <td>3</td>\n      <td>11</td>\n      <td>0</td>\n    </tr>\n    <tr>\n      <th>3</th>\n      <td>6182</td>\n      <td>1984</td>\n      <td>Graduation</td>\n      <td>Together</td>\n      <td>26646.0</td>\n      <td>1</td>\n      <td>0</td>\n      <td>10-02-2014</td>\n      <td>26</td>\n      <td>11</td>\n      <td>...</td>\n      <td>6</td>\n      <td>0</td>\n      <td>0</td>\n      <td>0</td>\n      <td>0</td>\n      <td>0</td>\n      <td>0</td>\n      <td>3</td>\n      <td>11</td>\n      <td>0</td>\n    </tr>\n    <tr>\n      <th>4</th>\n      <td>5324</td>\n      <td>1981</td>\n      <td>PhD</td>\n      <td>Married</td>\n      <td>58293.0</td>\n      <td>1</td>\n      <td>0</td>\n      <td>19-01-2014</td>\n      <td>94</td>\n      <td>173</td>\n      <td>...</td>\n      <td>5</td>\n      <td>0</td>\n      <td>0</td>\n      <td>0</td>\n      <td>0</td>\n      <td>0</td>\n      <td>0</td>\n      <td>3</td>\n      <td>11</td>\n      <td>0</td>\n    </tr>\n  </tbody>\n</table>\n<p>5 rows × 29 columns</p>\n</div>"
     },
     "metadata": {}
    }
   ]
  },
  {
   "cell_type": "markdown",
   "source": "### EDA and Data Cleaning",
   "metadata": {
    "cell_id": "017e025c9129496380d26abc4790471d",
    "tags": [],
    "deepnote_cell_type": "markdown",
    "deepnote_cell_height": 62
   }
  },
  {
   "cell_type": "code",
   "metadata": {
    "cell_id": "1b645e57ea7d49bc90c8d6bae0a751ff",
    "tags": [],
    "deepnote_to_be_reexecuted": false,
    "source_hash": "b82ffb5a",
    "execution_start": 1648921028591,
    "execution_millis": 10,
    "deepnote_cell_type": "code",
    "deepnote_cell_height": 279
   },
   "source": "df_customers= df_customers[df_customers['Year_Birth']>1930]\n\nremove_list = ['YOLO','Absurd','Alone']\ndf_customers = df_customers[~df_customers['Marital_Status'].isin(remove_list)]\n\ndf_customers= df_customers[df_customers['Income']<100000]\n\ndf_customers= df_customers[df_customers['NumWebVisitsMonth']<12]\n\ndf_customers.dropna(axis=0,inplace=True)\n\ndf_customers.drop(columns=['ID','Dt_Customer','Z_CostContact','Z_Revenue'],inplace = True)",
   "execution_count": null,
   "outputs": []
  },
  {
   "cell_type": "code",
   "metadata": {
    "cell_id": "9e3581caab124abfa866460b538fe4b4",
    "tags": [],
    "deepnote_to_be_reexecuted": false,
    "source_hash": "dde9d0ef",
    "execution_start": 1648921028617,
    "execution_millis": 7877,
    "deepnote_cell_type": "code",
    "deepnote_cell_height": 7485,
    "deepnote_output_heights": [
     265,
     264,
     265,
     264,
     264,
     264,
     264,
     264,
     264,
     264,
     264,
     264,
     264,
     268,
     264,
     264,
     265,
     265,
     264,
     264,
     264,
     264,
     264,
     264,
     264
    ]
   },
   "source": "for column in df_customers.columns:\n    sns.histplot(x= column,data = df_customers)\n    plt.show()",
   "execution_count": null,
   "outputs": [
    {
     "data": {
      "text/plain": "<Figure size 432x288 with 1 Axes>",
      "image/png": "[encoded data removed]"
     },
     "metadata": {
      "needs_background": "light",
      "image/png": {
       "width": 389,
       "height": 263
      }
     },
     "output_type": "display_data"
    },
    {
     "data": {
      "text/plain": "<Figure size 432x288 with 1 Axes>",
      "image/png": "[encoded data removed]"
     },
     "metadata": {
      "needs_background": "light",
      "image/png": {
       "width": 395,
       "height": 262
      }
     },
     "output_type": "display_data"
    },
    {
     "data": {
      "text/plain": "<Figure size 432x288 with 1 Axes>",
      "image/png": "[encoded data removed]"
     },
     "metadata": {
      "needs_background": "light",
      "image/png": {
       "width": 389,
       "height": 263
      }
     },
     "output_type": "display_data"
    },
    {
     "data": {
      "text/plain": "<Figure size 432x288 with 1 Axes>",
      "image/png": "[encoded data removed]"
     },
     "metadata": {
      "needs_background": "light",
      "image/png": {
       "width": 396,
       "height": 262
      }
     },
     "output_type": "display_data"
    },
    {
     "data": {
      "text/plain": "<Figure size 432x288 with 1 Axes>",
      "image/png": "[encoded data removed]"
     },
     "metadata": {
      "needs_background": "light",
      "image/png": {
       "width": 395,
       "height": 262
      }
     },
     "output_type": "display_data"
    },
    {
     "data": {
      "text/plain": "<Figure size 432x288 with 1 Axes>",
      "image/png": "[encoded data removed]"
     },
     "metadata": {
      "needs_background": "light",
      "image/png": {
       "width": 395,
       "height": 262
      }
     },
     "output_type": "display_data"
    },
    {
     "data": {
      "text/plain": "<Figure size 432x288 with 1 Axes>",
      "image/png": "[encoded data removed]"
     },
     "metadata": {
      "needs_background": "light",
      "image/png": {
       "width": 389,
       "height": 262
      }
     },
     "output_type": "display_data"
    },
    {
     "data": {
      "text/plain": "<Figure size 432x288 with 1 Axes>",
      "image/png": "[encoded data removed]"
     },
     "metadata": {
      "needs_background": "light",
      "image/png": {
       "width": 389,
       "height": 262
      }
     },
     "output_type": "display_data"
    },
    {
     "data": {
      "text/plain": "<Figure size 432x288 with 1 Axes>",
      "image/png": "[encoded data removed]"
     },
     "metadata": {
      "needs_background": "light",
      "image/png": {
       "width": 389,
       "height": 262
      }
     },
     "output_type": "display_data"
    },
    {
     "data": {
      "text/plain": "<Figure size 432x288 with 1 Axes>",
      "image/png": "[encoded data removed]"
     },
     "metadata": {
      "needs_background": "light",
      "image/png": {
       "width": 390,
       "height": 262
      }
     },
     "output_type": "display_data"
    },
    {
     "data": {
      "text/plain": "<Figure size 432x288 with 1 Axes>",
      "image/png": "[encoded data removed]"
     },
     "metadata": {
      "needs_background": "light",
      "image/png": {
       "width": 389,
       "height": 262
      }
     },
     "output_type": "display_data"
    },
    {
     "data": {
      "text/plain": "<Figure size 432x288 with 1 Axes>",
      "image/png": "[encoded data removed]"
     },
     "metadata": {
      "needs_background": "light",
      "image/png": {
       "width": 389,
       "height": 262
      }
     },
     "output_type": "display_data"
    },
    {
     "data": {
      "text/plain": "<Figure size 432x288 with 1 Axes>",
      "image/png": "[encoded data removed]"
     },
     "metadata": {
      "needs_background": "light",
      "image/png": {
       "width": 389,
       "height": 262
      }
     },
     "output_type": "display_data"
    },
    {
     "data": {
      "text/plain": "<Figure size 432x288 with 1 Axes>",
      "image/png": "[encoded data removed]"
     },
     "metadata": {
      "needs_background": "light",
      "image/png": {
       "width": 395,
       "height": 266
      }
     },
     "output_type": "display_data"
    },
    {
     "data": {
      "text/plain": "<Figure size 432x288 with 1 Axes>",
      "image/png": "[encoded data removed]"
     },
     "metadata": {
      "needs_background": "light",
      "image/png": {
       "width": 389,
       "height": 262
      }
     },
     "output_type": "display_data"
    },
    {
     "data": {
      "text/plain": "<Figure size 432x288 with 1 Axes>",
      "image/png": "[encoded data removed]"
     },
     "metadata": {
      "needs_background": "light",
      "image/png": {
       "width": 389,
       "height": 262
      }
     },
     "output_type": "display_data"
    },
    {
     "data": {
      "text/plain": "<Figure size 432x288 with 1 Axes>",
      "image/png": "[encoded data removed]"
     },
     "metadata": {
      "needs_background": "light",
      "image/png": {
       "width": 389,
       "height": 263
      }
     },
     "output_type": "display_data"
    },
    {
     "data": {
      "text/plain": "<Figure size 432x288 with 1 Axes>",
      "image/png": "[encoded data removed]"
     },
     "metadata": {
      "needs_background": "light",
      "image/png": {
       "width": 389,
       "height": 263
      }
     },
     "output_type": "display_data"
    },
    {
     "data": {
      "text/plain": "<Figure size 432x288 with 1 Axes>",
      "image/png": "[encoded data removed]"
     },
     "metadata": {
      "needs_background": "light",
      "image/png": {
       "width": 395,
       "height": 262
      }
     },
     "output_type": "display_data"
    },
    {
     "data": {
      "text/plain": "<Figure size 432x288 with 1 Axes>",
      "image/png": "[encoded data removed]"
     },
     "metadata": {
      "needs_background": "light",
      "image/png": {
       "width": 395,
       "height": 262
      }
     },
     "output_type": "display_data"
    },
    {
     "data": {
      "text/plain": "<Figure size 432x288 with 1 Axes>",
      "image/png": "[encoded data removed]"
     },
     "metadata": {
      "needs_background": "light",
      "image/png": {
       "width": 395,
       "height": 262
      }
     },
     "output_type": "display_data"
    },
    {
     "data": {
      "text/plain": "<Figure size 432x288 with 1 Axes>",
      "image/png": "[encoded data removed]"
     },
     "metadata": {
      "needs_background": "light",
      "image/png": {
       "width": 395,
       "height": 262
      }
     },
     "output_type": "display_data"
    },
    {
     "data": {
      "text/plain": "<Figure size 432x288 with 1 Axes>",
      "image/png": "[encoded data removed]"
     },
     "metadata": {
      "needs_background": "light",
      "image/png": {
       "width": 395,
       "height": 262
      }
     },
     "output_type": "display_data"
    },
    {
     "data": {
      "text/plain": "<Figure size 432x288 with 1 Axes>",
      "image/png": "[encoded data removed]"
     },
     "metadata": {
      "needs_background": "light",
      "image/png": {
       "width": 395,
       "height": 262
      }
     },
     "output_type": "display_data"
    },
    {
     "data": {
      "text/plain": "<Figure size 432x288 with 1 Axes>",
      "image/png": "[encoded data removed]"
     },
     "metadata": {
      "needs_background": "light",
      "image/png": {
       "width": 395,
       "height": 262
      }
     },
     "output_type": "display_data"
    }
   ]
  },
  {
   "cell_type": "markdown",
   "source": "## KNN",
   "metadata": {
    "cell_id": "c530c70db953494782235dd0fc4b94c4",
    "tags": [],
    "deepnote_cell_type": "markdown",
    "deepnote_cell_height": 70
   }
  },
  {
   "cell_type": "markdown",
   "source": "## Logistic regression",
   "metadata": {
    "cell_id": "a2c3445c017b4b84a865613d55546254",
    "tags": [],
    "deepnote_cell_type": "markdown",
    "deepnote_cell_height": 70
   }
  },
  {
   "cell_type": "markdown",
   "source": "## Linear Discriminant Analysis",
   "metadata": {
    "cell_id": "44d9906f6ba641fcb384f4bf77ddbc50",
    "tags": [],
    "deepnote_cell_type": "markdown",
    "deepnote_cell_height": 70
   }
  },
  {
   "cell_type": "markdown",
   "source": "## Quadratic Discriminant Analysis",
   "metadata": {
    "cell_id": "cd1e1b57a2a846f4ba262045cd2fafab",
    "tags": [],
    "deepnote_cell_type": "markdown",
    "deepnote_cell_height": 70
   }
  },
  {
   "cell_type": "markdown",
   "source": "## Classification Tree",
   "metadata": {
    "cell_id": "48d5cdfd94e74a14a1bfb4a1fc3bef82",
    "tags": [],
    "deepnote_cell_type": "markdown",
    "deepnote_cell_height": 70
   }
  },
  {
   "cell_type": "markdown",
   "source": "## Bagging Classification Tree",
   "metadata": {
    "cell_id": "42785c69e5e342cdaab54ced79478cc8",
    "tags": [],
    "deepnote_cell_type": "markdown",
    "deepnote_cell_height": 70
   }
  },
  {
   "cell_type": "markdown",
   "source": "## Random Forest Classification Tree",
   "metadata": {
    "cell_id": "e8d80d32e9694a5f9ae023871153c7c7",
    "tags": [],
    "deepnote_cell_type": "markdown",
    "deepnote_cell_height": 70
   }
  },
  {
   "cell_type": "markdown",
   "source": "## Boosting Classification Tree",
   "metadata": {
    "cell_id": "cf49212bab3f41659fe589a301e13046",
    "tags": [],
    "deepnote_cell_type": "markdown",
    "deepnote_cell_height": 122
   }
  },
  {
   "cell_type": "markdown",
   "source": "<a style='text-decoration:none;line-height:16px;display:flex;color:#5B5B62;padding:10px;justify-content:end;' href='https://deepnote.com?utm_source=created-in-deepnote-cell&projectId=96262903-a28f-4719-a328-dc59e3cfa77f' target=\"_blank\">\n<img alt='Created in deepnote.com' style='display:inline;max-height:16px;margin:0px;margin-right:7.5px;' src='data:image/svg+xml;base64,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' > </img>\nCreated in <span style='font-weight:600;margin-left:4px;'>Deepnote</span></a>",
   "metadata": {
    "tags": [],
    "created_in_deepnote_cell": true,
    "deepnote_cell_type": "markdown"
   }
  }
 ],
 "nbformat": 4,
 "nbformat_minor": 2,
 "metadata": {
  "orig_nbformat": 2,
  "deepnote": {
   "is_reactive": false
  },
  "deepnote_notebook_id": "6004004f-f1ea-49ca-b26a-760ae7bd68bf",
  "deepnote_execution_queue": []
 }
}